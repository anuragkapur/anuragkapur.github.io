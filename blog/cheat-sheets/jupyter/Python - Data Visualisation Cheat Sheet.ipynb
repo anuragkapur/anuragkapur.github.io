{
 "cells": [
  {
   "cell_type": "markdown",
   "metadata": {},
   "source": [
    "# Data Visualisation"
   ]
  },
  {
   "cell_type": "code",
   "execution_count": 2,
   "metadata": {},
   "outputs": [],
   "source": [
    "import pandas as pd\n",
    "import numpy as np\n",
    "import seaborn as sns\n",
    "import matplotlib.pyplot as plt"
   ]
  },
  {
   "cell_type": "markdown",
   "metadata": {},
   "source": [
    "## Chart Attributes"
   ]
  },
  {
   "cell_type": "markdown",
   "metadata": {},
   "source": [
    "### Pyplot - Size, Title, Axes Labels, Axes Range"
   ]
  },
  {
   "cell_type": "code",
   "execution_count": 34,
   "metadata": {},
   "outputs": [
    {
     "data": {
      "text/plain": [
       "(0, 5)"
      ]
     },
     "execution_count": 34,
     "metadata": {},
     "output_type": "execute_result"
    },
    {
     "data": {
      "image/png": "[encoded data removed]",
      "text/plain": [
       "<Figure size 1080x360 with 1 Axes>"
      ]
     },
     "metadata": {
      "needs_background": "light"
     },
     "output_type": "display_data"
    }
   ],
   "source": [
    "plt.figure(figsize = [15, 5])\n",
    "plt.title('My plot')\n",
    "plt.xlabel('X values')\n",
    "plt.ylabel('Count of values')\n",
    "plt.xlim([0, 10])\n",
    "plt.ylim([0, 5])\n"
   ]
  },
  {
   "cell_type": "markdown",
   "metadata": {},
   "source": [
    "### Axes - Set Range"
   ]
  },
  {
   "cell_type": "markdown",
   "metadata": {},
   "source": [
    "```python\n",
    "ax.set_ylim([0, 1])\n",
    "ax.set_xlim([0, 1])\n",
    "```"
   ]
  },
  {
   "cell_type": "markdown",
   "metadata": {},
   "source": [
    "## Count of Each Label in Column of DataFrame (Histogram)"
   ]
  },
  {
   "cell_type": "code",
   "execution_count": 7,
   "metadata": {},
   "outputs": [
    {
     "data": {
      "image/png": "[encoded data removed]",
      "text/plain": [
       "<Figure size 432x288 with 1 Axes>"
      ]
     },
     "metadata": {
      "needs_background": "light"
     },
     "output_type": "display_data"
    }
   ],
   "source": [
    "data_dict = {\n",
    "    'x': [0, 1, 1, 2, 1, 0, 0, 1, 2, 1, 1],\n",
    "    'y': [1, 1, 1, 1, 1, 0, 0, 0, 1, 2, 1]\n",
    "}\n",
    "\n",
    "df = pd.DataFrame(data=data_dict)\n",
    "\n",
    "plt.title('My plot')\n",
    "plt.xlabel('X values')\n",
    "plt.ylabel('Count of values')\n",
    "sns.countplot(df['x']);"
   ]
  },
  {
   "cell_type": "markdown",
   "metadata": {},
   "source": [
    "## Percentage of Each Label in Column of DataFrame"
   ]
  },
  {
   "cell_type": "code",
   "execution_count": 22,
   "metadata": {},
   "outputs": [
    {
     "data": {
      "image/png": "[encoded data removed]",
      "text/plain": [
       "<Figure size 432x288 with 1 Axes>"
      ]
     },
     "metadata": {
      "needs_background": "light"
     },
     "output_type": "display_data"
    }
   ],
   "source": [
    "data_dict = {\n",
    "    'x': [0, 1, 1, 2, 1, 0, 0, 1, 2, 1, 1],\n",
    "    'y': [1, 1, 1, 1, 1, 0, 0, 0, 1, 2, 1]\n",
    "}\n",
    "\n",
    "df = pd.DataFrame(data=data_dict)\n",
    "percentage_dist = df['x'].value_counts(normalize=True).sort_index()\n",
    "ax = sns.barplot(x=percentage_dist.index, y=percentage_dist.values)\n",
    "ax.set_ylim([0,1]);"
   ]
  },
  {
   "cell_type": "markdown",
   "metadata": {},
   "source": [
    "## Count of (Continuous) Values in Column of DataFrame"
   ]
  },
  {
   "cell_type": "code",
   "execution_count": 45,
   "metadata": {},
   "outputs": [
    {
     "data": {
      "image/png": "[encoded data removed]",
      "text/plain": [
       "<Figure size 432x288 with 1 Axes>"
      ]
     },
     "metadata": {
      "needs_background": "light"
     },
     "output_type": "display_data"
    }
   ],
   "source": [
    "mu, sigma = 0, 0.1 # mean and standard deviation\n",
    "data_dict = {\n",
    "    'x': np.random.normal(mu, sigma, 1000)\n",
    "}\n",
    "\n",
    "df = pd.DataFrame(data=data_dict)\n",
    "plt.hist(df['x'], bins=np.arange(start=-0.4, stop=0.4, step=0.05));"
   ]
  }
 ],
 "metadata": {
  "kernelspec": {
   "display_name": "Python [conda env:default37]",
   "language": "python",
   "name": "conda-env-default37-py"
  },
  "language_info": {
   "codemirror_mode": {
    "name": "ipython",
    "version": 3
   },
   "file_extension": ".py",
   "mimetype": "text/x-python",
   "name": "python",
   "nbconvert_exporter": "python",
   "pygments_lexer": "ipython3",
   "version": "3.7.7"
  },
  "toc": {
   "base_numbering": 1,
   "nav_menu": {},
   "number_sections": true,
   "sideBar": true,
   "skip_h1_title": false,
   "title_cell": "Table of Contents",
   "title_sidebar": "Contents",
   "toc_cell": false,
   "toc_position": {},
   "toc_section_display": true,
   "toc_window_display": true
  }
 },
 "nbformat": 4,
 "nbformat_minor": 4
}
